{
 "cells": [
  {
   "cell_type": "code",
   "execution_count": 1,
   "id": "c3795969-5d39-4400-8dbd-c5985b461719",
   "metadata": {},
   "outputs": [],
   "source": [
    "from xmlrpc.server import SimpleXMLRPCServer"
   ]
  },
  {
   "cell_type": "code",
   "execution_count": 7,
   "id": "2a0a0f7d-53e7-4d6d-bfd6-542d768c46dd",
   "metadata": {},
   "outputs": [],
   "source": [
    "import threading"
   ]
  },
  {
   "cell_type": "code",
   "execution_count": 3,
   "id": "c0ac2dfb-f3d8-4b92-b675-eb687f3e5517",
   "metadata": {},
   "outputs": [],
   "source": [
    "def fac(n):\n",
    "    return n+n"
   ]
  },
  {
   "cell_type": "code",
   "execution_count": 5,
   "id": "adc6263e-8d61-4a40-872f-b6c5a257ff0b",
   "metadata": {},
   "outputs": [],
   "source": [
    "def sstart():\n",
    "    server=SimpleXMLRPCServer((\"localhost\",8000))\n",
    "    server.register_function(fac,\"fac\")\n",
    "    server.serve_forever()"
   ]
  },
  {
   "cell_type": "code",
   "execution_count": null,
   "id": "598673c8-8aa2-4600-9e00-505d28c5c9fd",
   "metadata": {},
   "outputs": [],
   "source": [
    "t-="
   ]
  }
 ],
 "metadata": {
  "kernelspec": {
   "display_name": "Python [conda env:base] *",
   "language": "python",
   "name": "conda-base-py"
  },
  "language_info": {
   "codemirror_mode": {
    "name": "ipython",
    "version": 3
   },
   "file_extension": ".py",
   "mimetype": "text/x-python",
   "name": "python",
   "nbconvert_exporter": "python",
   "pygments_lexer": "ipython3",
   "version": "3.12.7"
  }
 },
 "nbformat": 4,
 "nbformat_minor": 5
}
