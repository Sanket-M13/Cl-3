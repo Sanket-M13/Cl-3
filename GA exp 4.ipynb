{
 "cells": [
  {
   "cell_type": "code",
   "execution_count": 71,
   "id": "1f98f159-9632-4d12-a50f-9cddcbb355b6",
   "metadata": {},
   "outputs": [],
   "source": [
    "import random"
   ]
  },
  {
   "cell_type": "code",
   "execution_count": 93,
   "id": "361a40b6-2c89-408e-9601-17608985e5ea",
   "metadata": {},
   "outputs": [],
   "source": [
    "from deap import creator,base,tools,algorithms"
   ]
  },
  {
   "cell_type": "code",
   "execution_count": 73,
   "id": "b7628cee-1d73-4f58-b5cf-60e30786ee69",
   "metadata": {},
   "outputs": [],
   "source": [
    "from sklearn.model_selection import train_test_split\n",
    "from sklearn.neural_network import MLPClassifier\n",
    "from sklearn.metrics import accuracy_score"
   ]
  },
  {
   "cell_type": "code",
   "execution_count": 81,
   "id": "f5d5a507-9fe8-49b6-bd89-7c309a001c66",
   "metadata": {},
   "outputs": [],
   "source": [
    "from sklearn.feature_extraction.text import TfidfVectorizer"
   ]
  },
  {
   "cell_type": "code",
   "execution_count": 75,
   "id": "2123fd9d-9c08-47ba-98ec-71842425720d",
   "metadata": {},
   "outputs": [],
   "source": [
    "import pandas as pd"
   ]
  },
  {
   "cell_type": "code",
   "execution_count": 77,
   "id": "6dceb599-e4e8-4e0f-b482-50437323fe2c",
   "metadata": {},
   "outputs": [],
   "source": [
    "df=pd.read_csv(\"C:/Users/Amaan Shaikh/Downloads/email_spam.csv\")"
   ]
  },
  {
   "cell_type": "code",
   "execution_count": 79,
   "id": "dac38ad2-21cc-4dbd-be5b-0466ae153c0d",
   "metadata": {},
   "outputs": [
    {
     "data": {
      "text/html": [
       "<div>\n",
       "<style scoped>\n",
       "    .dataframe tbody tr th:only-of-type {\n",
       "        vertical-align: middle;\n",
       "    }\n",
       "\n",
       "    .dataframe tbody tr th {\n",
       "        vertical-align: top;\n",
       "    }\n",
       "\n",
       "    .dataframe thead th {\n",
       "        text-align: right;\n",
       "    }\n",
       "</style>\n",
       "<table border=\"1\" class=\"dataframe\">\n",
       "  <thead>\n",
       "    <tr style=\"text-align: right;\">\n",
       "      <th></th>\n",
       "      <th>title</th>\n",
       "      <th>text</th>\n",
       "      <th>type</th>\n",
       "    </tr>\n",
       "  </thead>\n",
       "  <tbody>\n",
       "    <tr>\n",
       "      <th>0</th>\n",
       "      <td>?? the secrets to SUCCESS</td>\n",
       "      <td>Hi James,\\n\\nHave you claim your complimentary...</td>\n",
       "      <td>spam</td>\n",
       "    </tr>\n",
       "    <tr>\n",
       "      <th>1</th>\n",
       "      <td>?? You Earned 500 GCLoot Points</td>\n",
       "      <td>\\nalt_text\\nCongratulations, you just earned\\n...</td>\n",
       "      <td>not spam</td>\n",
       "    </tr>\n",
       "    <tr>\n",
       "      <th>2</th>\n",
       "      <td>?? Your GitHub launch code</td>\n",
       "      <td>Here's your GitHub launch code, @Mortyj420!\\n ...</td>\n",
       "      <td>not spam</td>\n",
       "    </tr>\n",
       "    <tr>\n",
       "      <th>3</th>\n",
       "      <td>[The Virtual Reward Center] Re: ** Clarifications</td>\n",
       "      <td>Hello,\\n \\nThank you for contacting the Virtua...</td>\n",
       "      <td>not spam</td>\n",
       "    </tr>\n",
       "    <tr>\n",
       "      <th>4</th>\n",
       "      <td>10-1 MLB Expert Inside, Plus Everything You Ne...</td>\n",
       "      <td>Hey Prachanda Rawal,\\n\\nToday's newsletter is ...</td>\n",
       "      <td>spam</td>\n",
       "    </tr>\n",
       "    <tr>\n",
       "      <th>...</th>\n",
       "      <td>...</td>\n",
       "      <td>...</td>\n",
       "      <td>...</td>\n",
       "    </tr>\n",
       "    <tr>\n",
       "      <th>79</th>\n",
       "      <td>Your application for the position of  Child Pr...</td>\n",
       "      <td>Dear Maryam, \\n\\n \\n\\nI would like to thank yo...</td>\n",
       "      <td>not spam</td>\n",
       "    </tr>\n",
       "    <tr>\n",
       "      <th>80</th>\n",
       "      <td>Your Kilimall Account is Ready - Shopping Now!</td>\n",
       "      <td>Dear Customer,\\n\\nWelcome to Kilimall, Thanks ...</td>\n",
       "      <td>not spam</td>\n",
       "    </tr>\n",
       "    <tr>\n",
       "      <th>81</th>\n",
       "      <td>Your Steam account: Access from new web or mob...</td>\n",
       "      <td>Dear vladis163rus,\\nHere is the Steam Guard co...</td>\n",
       "      <td>not spam</td>\n",
       "    </tr>\n",
       "    <tr>\n",
       "      <th>82</th>\n",
       "      <td>Your uploaded document is rejected</td>\n",
       "      <td>View In Browser | Log in\\n \\n \\n\\nSkrill logo\\...</td>\n",
       "      <td>not spam</td>\n",
       "    </tr>\n",
       "    <tr>\n",
       "      <th>83</th>\n",
       "      <td>You've Earned a Reward from Bard Explorers India</td>\n",
       "      <td>You've received a gift!\\nSign in to your Bard ...</td>\n",
       "      <td>not spam</td>\n",
       "    </tr>\n",
       "  </tbody>\n",
       "</table>\n",
       "<p>84 rows × 3 columns</p>\n",
       "</div>"
      ],
      "text/plain": [
       "                                                title  \\\n",
       "0                           ?? the secrets to SUCCESS   \n",
       "1                     ?? You Earned 500 GCLoot Points   \n",
       "2                          ?? Your GitHub launch code   \n",
       "3   [The Virtual Reward Center] Re: ** Clarifications   \n",
       "4   10-1 MLB Expert Inside, Plus Everything You Ne...   \n",
       "..                                                ...   \n",
       "79  Your application for the position of  Child Pr...   \n",
       "80     Your Kilimall Account is Ready - Shopping Now!   \n",
       "81  Your Steam account: Access from new web or mob...   \n",
       "82                 Your uploaded document is rejected   \n",
       "83   You've Earned a Reward from Bard Explorers India   \n",
       "\n",
       "                                                 text      type  \n",
       "0   Hi James,\\n\\nHave you claim your complimentary...      spam  \n",
       "1   \\nalt_text\\nCongratulations, you just earned\\n...  not spam  \n",
       "2   Here's your GitHub launch code, @Mortyj420!\\n ...  not spam  \n",
       "3   Hello,\\n \\nThank you for contacting the Virtua...  not spam  \n",
       "4   Hey Prachanda Rawal,\\n\\nToday's newsletter is ...      spam  \n",
       "..                                                ...       ...  \n",
       "79  Dear Maryam, \\n\\n \\n\\nI would like to thank yo...  not spam  \n",
       "80  Dear Customer,\\n\\nWelcome to Kilimall, Thanks ...  not spam  \n",
       "81  Dear vladis163rus,\\nHere is the Steam Guard co...  not spam  \n",
       "82  View In Browser | Log in\\n \\n \\n\\nSkrill logo\\...  not spam  \n",
       "83  You've received a gift!\\nSign in to your Bard ...  not spam  \n",
       "\n",
       "[84 rows x 3 columns]"
      ]
     },
     "execution_count": 79,
     "metadata": {},
     "output_type": "execute_result"
    }
   ],
   "source": [
    "df"
   ]
  },
  {
   "cell_type": "code",
   "execution_count": 83,
   "id": "921e1118-5f82-4daf-b5ec-5e18b12c175a",
   "metadata": {},
   "outputs": [],
   "source": [
    "tf=TfidfVectorizer(stop_words=\"english\",max_features=5000)"
   ]
  },
  {
   "cell_type": "code",
   "execution_count": 85,
   "id": "c992117e-4322-4cb8-b851-b9c7a0035ab7",
   "metadata": {},
   "outputs": [],
   "source": [
    "x=tf.fit_transform(df[\"text\"]).toarray()"
   ]
  },
  {
   "cell_type": "code",
   "execution_count": 87,
   "id": "88793ed0-80bd-4ca3-8d60-4cd89112bfdc",
   "metadata": {},
   "outputs": [],
   "source": [
    "y=df[\"type\"].apply(lambda x:1 if(\"spam\") else(0))"
   ]
  },
  {
   "cell_type": "code",
   "execution_count": 89,
   "id": "0119a809-55f1-42eb-b8fd-0c1f7a7eeb71",
   "metadata": {},
   "outputs": [],
   "source": [
    "x_train,x_test,y_train,y_test=train_test_split(x,y,test_size=0.2,random_state=42)"
   ]
  },
  {
   "cell_type": "code",
   "execution_count": 91,
   "id": "37cf5a60-ec0b-4644-b454-478069c3f3c4",
   "metadata": {},
   "outputs": [],
   "source": [
    "def eval_n(individual):\n",
    "    hidden=int(max(1,individual[0]))\n",
    "    learn=max(0.001,min(0.1,individual[1]))\n",
    "    model=MLPClassifier(hidden_layer_sizes=hidden,learning_rate_init=learn,max_iter=300,random_state=42)\n",
    "    model.fit(x_train,y_train)\n",
    "    pred=model.predict(x_test)\n",
    "    acc=accuracy_score(y_test,pred)\n",
    "    return (acc,)"
   ]
  },
  {
   "cell_type": "code",
   "execution_count": 95,
   "id": "b51a3ced-4854-4140-af9b-b7b06f4857f2",
   "metadata": {},
   "outputs": [],
   "source": [
    "creator.create(\"FitnessMax\",base.Fitness,weights=(1.0,))\n",
    "creator.create(\"Individual\",list,fitness=creator.FitnessMax)"
   ]
  },
  {
   "cell_type": "code",
   "execution_count": 97,
   "id": "00d2e6ee-778f-4d6a-aae6-93c299972e99",
   "metadata": {},
   "outputs": [],
   "source": [
    "tool=base.Toolbox()"
   ]
  },
  {
   "cell_type": "code",
   "execution_count": 99,
   "id": "c2ec935c-93e8-4d33-bd2b-3e848d697428",
   "metadata": {},
   "outputs": [],
   "source": [
    "tool.register(\"attrn_int\",random.randint,10,100)\n",
    "tool.register(\"attrn_float\",random.uniform,0.001,0.1)\n",
    "tool.register(\"individual\",tools.initCycle,creator.Individual,(tool.attrn_int,tool.attrn_float),n=1)\n",
    "tool.register(\"population\",tools.initRepeat,list,tool.individual)\n",
    "tool.register(\"evaluate\",eval_n)\n",
    "tool.register(\"mate\",tools.cxTwoPoint)\n",
    "tool.register(\"mutate\",tools.mutShuffleIndexes,indp=0.2)\n",
    "tool.register(\"select\",tools.selRandom)"
   ]
  },
  {
   "cell_type": "code",
   "execution_count": 101,
   "id": "1229b420-d837-4144-8dbe-ce2a696a24ff",
   "metadata": {},
   "outputs": [],
   "source": [
    "pop=tool.population(10)"
   ]
  },
  {
   "cell_type": "code",
   "execution_count": 103,
   "id": "9155dd99-bd85-48d9-9506-b49888f8179b",
   "metadata": {},
   "outputs": [
    {
     "name": "stdout",
     "output_type": "stream",
     "text": [
      "gen\tnevals\n",
      "0  \t10    \n"
     ]
    },
    {
     "ename": "TypeError",
     "evalue": "'float' object cannot be interpreted as an integer",
     "output_type": "error",
     "traceback": [
      "\u001b[1;31m---------------------------------------------------------------------------\u001b[0m",
      "\u001b[1;31mTypeError\u001b[0m                                 Traceback (most recent call last)",
      "Cell \u001b[1;32mIn[103], line 1\u001b[0m\n\u001b[1;32m----> 1\u001b[0m algorithms\u001b[38;5;241m.\u001b[39meaSimple(pop,tool,cxpb\u001b[38;5;241m=\u001b[39m\u001b[38;5;241m0.5\u001b[39m,mutpb\u001b[38;5;241m=\u001b[39m\u001b[38;5;241m0.2\u001b[39m,ngen\u001b[38;5;241m=\u001b[39m\u001b[38;5;241m0.5\u001b[39m)\n",
      "File \u001b[1;32m~\\anaconda3\\Lib\\site-packages\\deap\\algorithms.py:163\u001b[0m, in \u001b[0;36meaSimple\u001b[1;34m(population, toolbox, cxpb, mutpb, ngen, stats, halloffame, verbose)\u001b[0m\n\u001b[0;32m    160\u001b[0m     \u001b[38;5;28mprint\u001b[39m(logbook\u001b[38;5;241m.\u001b[39mstream)\n\u001b[0;32m    162\u001b[0m \u001b[38;5;66;03m# Begin the generational process\u001b[39;00m\n\u001b[1;32m--> 163\u001b[0m \u001b[38;5;28;01mfor\u001b[39;00m gen \u001b[38;5;129;01min\u001b[39;00m \u001b[38;5;28mrange\u001b[39m(\u001b[38;5;241m1\u001b[39m, ngen \u001b[38;5;241m+\u001b[39m \u001b[38;5;241m1\u001b[39m):\n\u001b[0;32m    164\u001b[0m     \u001b[38;5;66;03m# Select the next generation individuals\u001b[39;00m\n\u001b[0;32m    165\u001b[0m     offspring \u001b[38;5;241m=\u001b[39m toolbox\u001b[38;5;241m.\u001b[39mselect(population, \u001b[38;5;28mlen\u001b[39m(population))\n\u001b[0;32m    167\u001b[0m     \u001b[38;5;66;03m# Vary the pool of individuals\u001b[39;00m\n",
      "\u001b[1;31mTypeError\u001b[0m: 'float' object cannot be interpreted as an integer"
     ]
    }
   ],
   "source": [
    "algorithms.eaSimple(pop,tool,cxpb=0.5,mutpb=0.2,ngen=0.5)"
   ]
  },
  {
   "cell_type": "code",
   "execution_count": null,
   "id": "3132c68a-8522-45b5-9426-b5eb621d15d5",
   "metadata": {},
   "outputs": [],
   "source": []
  }
 ],
 "metadata": {
  "kernelspec": {
   "display_name": "Python [conda env:base] *",
   "language": "python",
   "name": "conda-base-py"
  },
  "language_info": {
   "codemirror_mode": {
    "name": "ipython",
    "version": 3
   },
   "file_extension": ".py",
   "mimetype": "text/x-python",
   "name": "python",
   "nbconvert_exporter": "python",
   "pygments_lexer": "ipython3",
   "version": "3.12.7"
  }
 },
 "nbformat": 4,
 "nbformat_minor": 5
}
