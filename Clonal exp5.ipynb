{
 "cells": [
  {
   "cell_type": "code",
   "execution_count": 123,
   "id": "a146bf5b-6ee5-40ef-9e80-9238f1e83979",
   "metadata": {},
   "outputs": [],
   "source": [
    "import random"
   ]
  },
  {
   "cell_type": "code",
   "execution_count": 125,
   "id": "5b95bd51-8899-41e6-a111-bdd3b58fdd73",
   "metadata": {},
   "outputs": [],
   "source": [
    "from sklearn.model_selection import train_test_split\n",
    "from sklearn.metrics import accuracy_score\n",
    "from sklearn.tree import DecisionTreeClassifier\n",
    "from sklearn.datasets import load_breast_cancer"
   ]
  },
  {
   "cell_type": "code",
   "execution_count": 127,
   "id": "82a7cb63-7478-4645-8b64-c3a99e78a3c7",
   "metadata": {},
   "outputs": [],
   "source": [
    "df=load_breast_cancer()"
   ]
  },
  {
   "cell_type": "code",
   "execution_count": 129,
   "id": "33ff40a7-e693-4572-b796-813e6672a9c3",
   "metadata": {},
   "outputs": [],
   "source": [
    "x=df.data"
   ]
  },
  {
   "cell_type": "code",
   "execution_count": 131,
   "id": "148ec5c3-603c-4b06-b6b9-5dfeba62962d",
   "metadata": {},
   "outputs": [],
   "source": [
    "y=df.target"
   ]
  },
  {
   "cell_type": "code",
   "execution_count": 133,
   "id": "cc4f8d59-208b-48a5-8cf7-39e678c510b7",
   "metadata": {},
   "outputs": [],
   "source": [
    "x_train,x_test,y_train,y_test=train_test_split(x,y,test_size=0.2,random_state=42)"
   ]
  },
  {
   "cell_type": "code",
   "execution_count": 135,
   "id": "0d73b97d-f094-4613-9eb7-fb4ec39675ad",
   "metadata": {},
   "outputs": [],
   "source": [
    "def Create_population(size):\n",
    "    return [DecisionTreeClassifier(max_depth=random.randint(1,5))for i in range(size)]\n",
    "    "
   ]
  },
  {
   "cell_type": "code",
   "execution_count": 137,
   "id": "4cf62d16-7932-4791-b2f8-a083864efc3d",
   "metadata": {},
   "outputs": [],
   "source": [
    "def evaluate_pop(pop):\n",
    "    aff=[]\n",
    "    for model in pop:\n",
    "        model.fit(x_train,y_train)\n",
    "        pred=model.predict(x_test)\n",
    "        acc=accuracy_score(y_test,pred)\n",
    "        aff.append(acc)\n",
    "    return aff    "
   ]
  },
  {
   "cell_type": "code",
   "execution_count": 139,
   "id": "94d96e98-c0fa-4f2e-8126-24d9b2f940b4",
   "metadata": {},
   "outputs": [],
   "source": [
    "def clone(aff,pop):\n",
    "    clones=[]\n",
    "    for i,model in enumerate(pop):\n",
    "        n_clones=int(aff[i]*3*10)\n",
    "        for i in range(n_clones):\n",
    "            clones.append(model)\n",
    "    return clones        "
   ]
  },
  {
   "cell_type": "code",
   "execution_count": 141,
   "id": "ab50852a-4e1b-4a5c-be1b-87a746c4c1d0",
   "metadata": {},
   "outputs": [],
   "source": [
    "def mutate(clones):\n",
    "    mut=[]\n",
    "    for model in clones:\n",
    "        new=max(1,model.get_params()[\"max_depth\"])\n",
    "        m_model=DecisionTreeClassifier(max_depth=new)\n",
    "        mut.append(m_model)\n",
    "    return mut    "
   ]
  },
  {
   "cell_type": "code",
   "execution_count": 143,
   "id": "cf427be5-b6af-43ad-b652-ed724707b4be",
   "metadata": {},
   "outputs": [],
   "source": [
    "pop=Create_population(10)"
   ]
  },
  {
   "cell_type": "code",
   "execution_count": 147,
   "id": "07f719c8-0e8b-45c6-a27e-f69992ae92ad",
   "metadata": {},
   "outputs": [
    {
     "name": "stdout",
     "output_type": "stream",
     "text": [
      "Aff=0.9473684210526315,gen=0\n",
      "Aff=0.9473684210526315,gen=1\n",
      "Aff=0.9473684210526315,gen=2\n",
      "Aff=0.9473684210526315,gen=3\n",
      "Aff=0.9473684210526315,gen=4\n",
      "Aff=0.9473684210526315,gen=5\n",
      "Aff=0.9473684210526315,gen=6\n",
      "Aff=0.9473684210526315,gen=7\n",
      "Aff=0.9473684210526315,gen=8\n",
      "Aff=0.9473684210526315,gen=9\n",
      "Aff=0.9473684210526315,gen=10\n",
      "Aff=0.9473684210526315,gen=11\n",
      "Aff=0.9473684210526315,gen=12\n",
      "Aff=0.9473684210526315,gen=13\n",
      "Aff=0.9473684210526315,gen=14\n",
      "Aff=0.9473684210526315,gen=15\n",
      "Aff=0.9473684210526315,gen=16\n",
      "Aff=0.9473684210526315,gen=17\n",
      "Aff=0.9473684210526315,gen=18\n",
      "Aff=0.9473684210526315,gen=19\n"
     ]
    }
   ],
   "source": [
    "for gen in range(20):\n",
    "    aff=evaluate_pop(pop)\n",
    "    print(f\"Aff={max(aff)},gen={gen}\")"
   ]
  },
  {
   "cell_type": "code",
   "execution_count": null,
   "id": "9fd12926-a514-4457-b476-2ec46cb57249",
   "metadata": {},
   "outputs": [],
   "source": []
  }
 ],
 "metadata": {
  "kernelspec": {
   "display_name": "Python [conda env:base] *",
   "language": "python",
   "name": "conda-base-py"
  },
  "language_info": {
   "codemirror_mode": {
    "name": "ipython",
    "version": 3
   },
   "file_extension": ".py",
   "mimetype": "text/x-python",
   "name": "python",
   "nbconvert_exporter": "python",
   "pygments_lexer": "ipython3",
   "version": "3.12.7"
  }
 },
 "nbformat": 4,
 "nbformat_minor": 5
}
