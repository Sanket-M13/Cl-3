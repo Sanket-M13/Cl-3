{
 "cells": [
  {
   "cell_type": "code",
   "execution_count": 41,
   "id": "4558b334-d7ec-4dc6-96bd-4ac2c04d9671",
   "metadata": {},
   "outputs": [],
   "source": [
    "import random\n",
    "import time"
   ]
  },
  {
   "cell_type": "code",
   "execution_count": 43,
   "id": "93a8a079-8ddc-4032-8597-fe430becfa7b",
   "metadata": {},
   "outputs": [],
   "source": [
    "class Client_request:\n",
    "    def __init__(self,request_id):\n",
    "        self.id=request_id\n",
    "        self.arrival=random.randint(1,5)\n",
    "        self.processing=random.randint(1,3)\n",
    "    def __repr__(self):\n",
    "        return (f\"request={self.id}\")"
   ]
  },
  {
   "cell_type": "code",
   "execution_count": 45,
   "id": "5b0955b6-a840-4b10-b2e0-72cac845cc54",
   "metadata": {},
   "outputs": [],
   "source": [
    "class Server:\n",
    "    def __init__(self,server_id):\n",
    "        self.id=server_id\n",
    "    def __repr__(self):\n",
    "        return (f\"server={self.id}\")"
   ]
  },
  {
   "cell_type": "code",
   "execution_count": 65,
   "id": "14ea9157-a94f-43a4-80b7-0c6c495afe12",
   "metadata": {},
   "outputs": [],
   "source": [
    "class loadbalance:\n",
    "    def __init__(self,num_server):\n",
    "        self.server=[Server(i+1) for i in range(num_server)]\n",
    "        self.index=0\n",
    "    def assign(self,req):\n",
    "        server=self.server[self.index]\n",
    "        print(f\"req={req},server={server}\")\n",
    "        self.index=(self.index+1)%len(self.server)\n",
    "        time.sleep(req.processing)"
   ]
  },
  {
   "cell_type": "code",
   "execution_count": 67,
   "id": "3aa3aafd-eff9-4601-ad06-599b735477c9",
   "metadata": {},
   "outputs": [],
   "source": [
    "def simulate(r=10,s=5):\n",
    "    ld=loadbalance(5)\n",
    "    for i in range(1,r+1):\n",
    "        req=Client_request(i)\n",
    "        ld.assign(req)"
   ]
  },
  {
   "cell_type": "code",
   "execution_count": null,
   "id": "3ab0fa66-9236-45a0-8ea0-08bb4b3e8d3e",
   "metadata": {},
   "outputs": [
    {
     "name": "stdout",
     "output_type": "stream",
     "text": [
      "req=request=1,server=server=1\n"
     ]
    }
   ],
   "source": [
    "simulate()"
   ]
  },
  {
   "cell_type": "code",
   "execution_count": null,
   "id": "b34576c4-e748-45d2-ad0f-ae4ca9490ba0",
   "metadata": {},
   "outputs": [],
   "source": []
  }
 ],
 "metadata": {
  "kernelspec": {
   "display_name": "Python [conda env:base] *",
   "language": "python",
   "name": "conda-base-py"
  },
  "language_info": {
   "codemirror_mode": {
    "name": "ipython",
    "version": 3
   },
   "file_extension": ".py",
   "mimetype": "text/x-python",
   "name": "python",
   "nbconvert_exporter": "python",
   "pygments_lexer": "ipython3",
   "version": "3.12.7"
  }
 },
 "nbformat": 4,
 "nbformat_minor": 5
}
