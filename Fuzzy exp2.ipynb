{
 "cells": [
  {
   "cell_type": "code",
   "execution_count": 21,
   "id": "344bd865-5254-4d4e-bcc7-657fa2d8d7f3",
   "metadata": {},
   "outputs": [],
   "source": [
    "fuzzy_A={0:0.3,1:0.4,2:0.6}\n",
    "fuzzy_B={0:0.9,1:0.7,2:0.4}"
   ]
  },
  {
   "cell_type": "code",
   "execution_count": 23,
   "id": "1516f665-848a-43c5-8aa0-87e20b051b53",
   "metadata": {},
   "outputs": [],
   "source": [
    "def union(A,B):\n",
    "    return {x:max(A[x],B[x]) for x in A}"
   ]
  },
  {
   "cell_type": "code",
   "execution_count": 25,
   "id": "e97c2710-5df5-45c4-a6f8-a8eb5065fe01",
   "metadata": {},
   "outputs": [],
   "source": [
    "def inter(A,B):\n",
    "    return {x:min(A[x],B[x]) for x in A}"
   ]
  },
  {
   "cell_type": "code",
   "execution_count": 27,
   "id": "da324191-24f1-4213-8dd0-fdb435de002a",
   "metadata": {},
   "outputs": [],
   "source": [
    "def comp(A):\n",
    "    return {x:1-A[x] for x in A}"
   ]
  },
  {
   "cell_type": "code",
   "execution_count": 29,
   "id": "8e324170-0ae5-4ca6-a781-fa26892e80bf",
   "metadata": {},
   "outputs": [],
   "source": [
    "def diff(A,B):\n",
    "    bcomp=comp(B)\n",
    "    return {x:max(A[x],B[x]) for x in A}"
   ]
  },
  {
   "cell_type": "code",
   "execution_count": 31,
   "id": "03d14282-dc31-49b2-8ac7-67e2604fb889",
   "metadata": {},
   "outputs": [
    {
     "name": "stdout",
     "output_type": "stream",
     "text": [
      "{0: 0.9, 1: 0.7, 2: 0.6}\n"
     ]
    }
   ],
   "source": [
    "print(union(fuzzy_A,fuzzy_B))"
   ]
  },
  {
   "cell_type": "code",
   "execution_count": null,
   "id": "c6b1b524-69dd-45c5-81a7-5363727ba437",
   "metadata": {},
   "outputs": [],
   "source": []
  }
 ],
 "metadata": {
  "kernelspec": {
   "display_name": "Python [conda env:base] *",
   "language": "python",
   "name": "conda-base-py"
  },
  "language_info": {
   "codemirror_mode": {
    "name": "ipython",
    "version": 3
   },
   "file_extension": ".py",
   "mimetype": "text/x-python",
   "name": "python",
   "nbconvert_exporter": "python",
   "pygments_lexer": "ipython3",
   "version": "3.12.7"
  }
 },
 "nbformat": 4,
 "nbformat_minor": 5
}
